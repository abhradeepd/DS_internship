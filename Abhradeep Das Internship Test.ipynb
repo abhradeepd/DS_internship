{
 "cells": [
  {
   "cell_type": "code",
   "execution_count": 3,
   "metadata": {
    "pycharm": {
     "name": "#%%\n"
    }
   },
   "outputs": [],
   "source": [
    "import pandas as pd\n",
    "import numpy as np\n",
    "import matplotlib.pyplot as plt"
   ]
  },
  {
   "cell_type": "code",
   "execution_count": 31,
   "metadata": {
    "pycharm": {
     "name": "#%%\n"
    }
   },
   "outputs": [],
   "source": [
    "df = pd.read_csv('data.csv')"
   ]
  },
  {
   "cell_type": "code",
   "execution_count": 195,
   "metadata": {
    "pycharm": {
     "name": "#%%\n"
    }
   },
   "outputs": [
    {
     "name": "stdout",
     "output_type": "stream",
     "text": [
      "<class 'pandas.core.frame.DataFrame'>\n",
      "RangeIndex: 185950 entries, 0 to 185949\n",
      "Data columns (total 16 columns):\n",
      " #   Column     Non-Null Count   Dtype  \n",
      "---  ------     --------------   -----  \n",
      " 0   order_id   185950 non-null  int64  \n",
      " 1   product    185950 non-null  object \n",
      " 2   quantity   185950 non-null  int64  \n",
      " 3   price      185950 non-null  float64\n",
      " 4   total      185950 non-null  float64\n",
      " 5   full_date  185950 non-null  object \n",
      " 6   hour       185950 non-null  int64  \n",
      " 7   date       185950 non-null  int64  \n",
      " 8   month      185950 non-null  int64  \n",
      " 9   year       185950 non-null  int64  \n",
      " 10  day        185950 non-null  object \n",
      " 11  address    185950 non-null  object \n",
      " 12  city       185950 non-null  object \n",
      " 13  state      185950 non-null  object \n",
      " 14  pincode    185950 non-null  int64  \n",
      " 15  timezone   185950 non-null  object \n",
      "dtypes: float64(2), int64(7), object(7)\n",
      "memory usage: 22.7+ MB\n"
     ]
    }
   ],
   "source": [
    "df.info()"
   ]
  },
  {
   "cell_type": "code",
   "execution_count": 197,
   "metadata": {
    "pycharm": {
     "name": "#%%\n"
    }
   },
   "outputs": [
    {
     "data": {
      "text/plain": [
       "array(['Wired Headphones', 'Bose SoundSport Headphones', 'iPhone',\n",
       "       'AA Batteries (4-pack)', '34in Ultrawide Monitor', '20in Monitor',\n",
       "       'Macbook Pro Laptop', 'LG Washing Machine', '27in FHD Monitor',\n",
       "       'Lightning Charging Cable', 'Apple Airpods Headphones',\n",
       "       'AAA Batteries (4-pack)', 'USB-C Charging Cable',\n",
       "       '27in 4K Gaming Monitor', 'ThinkPad Laptop', 'Flatscreen TV',\n",
       "       'Google Phone', 'Vareebadd Phone', 'LG Dryer'], dtype=object)"
      ]
     },
     "execution_count": 197,
     "metadata": {},
     "output_type": "execute_result"
    }
   ],
   "source": [
    "df['product'].unique()"
   ]
  },
  {
   "cell_type": "code",
   "execution_count": 198,
   "metadata": {
    "pycharm": {
     "name": "#%%\n"
    }
   },
   "outputs": [
    {
     "data": {
      "text/html": [
       "<div>\n",
       "<style scoped>\n",
       "    .dataframe tbody tr th:only-of-type {\n",
       "        vertical-align: middle;\n",
       "    }\n",
       "\n",
       "    .dataframe tbody tr th {\n",
       "        vertical-align: top;\n",
       "    }\n",
       "\n",
       "    .dataframe thead th {\n",
       "        text-align: right;\n",
       "    }\n",
       "</style>\n",
       "<table border=\"1\" class=\"dataframe\">\n",
       "  <thead>\n",
       "    <tr style=\"text-align: right;\">\n",
       "      <th></th>\n",
       "      <th>order_id</th>\n",
       "      <th>product</th>\n",
       "      <th>quantity</th>\n",
       "      <th>price</th>\n",
       "      <th>total</th>\n",
       "      <th>full_date</th>\n",
       "      <th>hour</th>\n",
       "      <th>date</th>\n",
       "      <th>month</th>\n",
       "      <th>year</th>\n",
       "      <th>day</th>\n",
       "      <th>address</th>\n",
       "      <th>city</th>\n",
       "      <th>state</th>\n",
       "      <th>pincode</th>\n",
       "      <th>timezone</th>\n",
       "    </tr>\n",
       "  </thead>\n",
       "  <tbody>\n",
       "    <tr>\n",
       "      <th>79936</th>\n",
       "      <td>181069</td>\n",
       "      <td>Macbook Pro Laptop</td>\n",
       "      <td>2</td>\n",
       "      <td>1700.0</td>\n",
       "      <td>3400.0</td>\n",
       "      <td>04/27/19</td>\n",
       "      <td>21</td>\n",
       "      <td>27</td>\n",
       "      <td>4</td>\n",
       "      <td>2019</td>\n",
       "      <td>Sat</td>\n",
       "      <td>668 Park St</td>\n",
       "      <td>San Francisco</td>\n",
       "      <td>CA</td>\n",
       "      <td>94016</td>\n",
       "      <td>PM</td>\n",
       "    </tr>\n",
       "    <tr>\n",
       "      <th>136888</th>\n",
       "      <td>200528</td>\n",
       "      <td>Macbook Pro Laptop</td>\n",
       "      <td>2</td>\n",
       "      <td>1700.0</td>\n",
       "      <td>3400.0</td>\n",
       "      <td>05/13/19</td>\n",
       "      <td>13</td>\n",
       "      <td>13</td>\n",
       "      <td>5</td>\n",
       "      <td>2019</td>\n",
       "      <td>Mon</td>\n",
       "      <td>643 4th St</td>\n",
       "      <td>Boston</td>\n",
       "      <td>MA</td>\n",
       "      <td>2215</td>\n",
       "      <td>PM</td>\n",
       "    </tr>\n",
       "    <tr>\n",
       "      <th>80436</th>\n",
       "      <td>181544</td>\n",
       "      <td>Macbook Pro Laptop</td>\n",
       "      <td>2</td>\n",
       "      <td>1700.0</td>\n",
       "      <td>3400.0</td>\n",
       "      <td>04/22/19</td>\n",
       "      <td>12</td>\n",
       "      <td>22</td>\n",
       "      <td>4</td>\n",
       "      <td>2019</td>\n",
       "      <td>Mon</td>\n",
       "      <td>731 11th St</td>\n",
       "      <td>New York City</td>\n",
       "      <td>NY</td>\n",
       "      <td>10001</td>\n",
       "      <td>AM</td>\n",
       "    </tr>\n",
       "    <tr>\n",
       "      <th>41785</th>\n",
       "      <td>210292</td>\n",
       "      <td>Macbook Pro Laptop</td>\n",
       "      <td>2</td>\n",
       "      <td>1700.0</td>\n",
       "      <td>3400.0</td>\n",
       "      <td>06/08/19</td>\n",
       "      <td>9</td>\n",
       "      <td>8</td>\n",
       "      <td>6</td>\n",
       "      <td>2019</td>\n",
       "      <td>Sat</td>\n",
       "      <td>953 Ridge St</td>\n",
       "      <td>San Francisco</td>\n",
       "      <td>CA</td>\n",
       "      <td>94016</td>\n",
       "      <td>AM</td>\n",
       "    </tr>\n",
       "  </tbody>\n",
       "</table>\n",
       "</div>"
      ],
      "text/plain": [
       "        order_id             product  quantity   price   total full_date  \\\n",
       "79936     181069  Macbook Pro Laptop         2  1700.0  3400.0  04/27/19   \n",
       "136888    200528  Macbook Pro Laptop         2  1700.0  3400.0  05/13/19   \n",
       "80436     181544  Macbook Pro Laptop         2  1700.0  3400.0  04/22/19   \n",
       "41785     210292  Macbook Pro Laptop         2  1700.0  3400.0  06/08/19   \n",
       "\n",
       "        hour  date  month  year  day       address           city state  \\\n",
       "79936     21    27      4  2019  Sat   668 Park St  San Francisco    CA   \n",
       "136888    13    13      5  2019  Mon    643 4th St         Boston    MA   \n",
       "80436     12    22      4  2019  Mon   731 11th St  New York City    NY   \n",
       "41785      9     8      6  2019  Sat  953 Ridge St  San Francisco    CA   \n",
       "\n",
       "        pincode timezone  \n",
       "79936     94016       PM  \n",
       "136888     2215       PM  \n",
       "80436     10001       AM  \n",
       "41785     94016       AM  "
      ]
     },
     "execution_count": 198,
     "metadata": {},
     "output_type": "execute_result"
    }
   ],
   "source": [
    "#Q1. What is the 4th highest product sold in terms of total revenue generated overall ?\n",
    "df.sort_values(\"total\", ascending=False).nlargest(4, 'total')"
   ]
  },
  {
   "cell_type": "code",
   "execution_count": 266,
   "metadata": {
    "pycharm": {
     "name": "#%%\n"
    }
   },
   "outputs": [
    {
     "data": {
      "text/plain": [
       "city\n",
       "Atlanta          1231\n",
       "Austin            803\n",
       "Boston           1614\n",
       "Dallas           1188\n",
       "Los Angeles      2452\n",
       "New York City    1999\n",
       "Portland         1081\n",
       "San Francisco    3687\n",
       "Seattle          1198\n",
       "Name: quantity, dtype: int64"
      ]
     },
     "execution_count": 266,
     "metadata": {},
     "output_type": "execute_result"
    }
   ],
   "source": [
    "#Hence Macbook Pro is the 4th most sold product in the catergory\n",
    "\n",
    "#Q2. Which City sees the maximum number of orders being placed in the month of June 2019\n",
    "df_2 = df.loc[(df.month == 6) & (df.year == 2019)]\n",
    "df_2.groupby(['city'])['quantity'].sum().idxmax()"
   ]
  },
  {
   "cell_type": "code",
   "execution_count": 271,
   "metadata": {
    "pycharm": {
     "name": "#%%\n"
    }
   },
   "outputs": [
    {
     "data": {
      "text/plain": [
       "'27in 4K Gaming Monitor'"
      ]
     },
     "execution_count": 271,
     "metadata": {},
     "output_type": "execute_result"
    }
   ],
   "source": [
    "#San Francisco is the city that sees the maximum order being placed in June 2019.\n",
    "\n",
    "#Q3. What is the least popular product in terms of unique orders in the city of Los Angeles.\n",
    "df_3 = df.loc[(df.city == 'Los Angeles')]\n",
    "df_3.groupby('product')['quantity'].nunique().idxmin()"
   ]
  },
  {
   "cell_type": "code",
   "execution_count": 278,
   "metadata": {
    "pycharm": {
     "name": "#%%\n"
    }
   },
   "outputs": [
    {
     "data": {
      "text/plain": [
       "'CA'"
      ]
     },
     "execution_count": 278,
     "metadata": {},
     "output_type": "execute_result"
    }
   ],
   "source": [
    "#27in 4K Gaming Monitor is the least popular product in LA\n",
    "\n",
    "#Q4. Which state has the highest revenue generated from all the apple products in year 2019?\n",
    "df_4 = df.loc[(df.year == 2019)]\n",
    "df_4 = df[(df['product'] == 'iPhone') | (df['product'] == 'Macbook Pro Laptop') | (df['product'] == 'Apple Airpods Headphones')]\n",
    "df_4 = df_4.loc[(df.year == 2019)]\n",
    "df_4.groupby(['state'])['total'].sum().idxmax()"
   ]
  },
  {
   "cell_type": "code",
   "execution_count": 385,
   "metadata": {
    "pycharm": {
     "name": "#%%\n"
    }
   },
   "outputs": [
    {
     "data": {
      "text/plain": [
       "5965406.970000001"
      ]
     },
     "execution_count": 385,
     "metadata": {},
     "output_type": "execute_result"
    }
   ],
   "source": [
    "#Hence we can conclude that California is the state with highest revenue generated for apple products.\n",
    "\n",
    "#Q5. What is the difference of revenue generated between weekend and weekday in the state of CA\n",
    "df_5 = df.copy()\n",
    "df_5_weekday = df_5[((df_5['day'] == 'Mon')| (df_5['day'] == 'Tue')| (df_5['day'] == 'Wed')| (df_5['day'] == 'Thu')| (df_5['day'] == 'Fri')) & (df_5['state'] == 'CA')]\n",
    "df_5_weekend = df[((df['day'] == 'Sat')| (df['day'] == 'Sun')) & (df_5['state'] == 'CA')]\n",
    "abs(df_5_weekday['total'].sum() - df_5_weekend['total'].sum())"
   ]
  },
  {
   "cell_type": "code",
   "execution_count": 399,
   "metadata": {
    "pycharm": {
     "name": "#%%\n"
    }
   },
   "outputs": [
    {
     "data": {
      "text/plain": [
       "'Austin'"
      ]
     },
     "execution_count": 399,
     "metadata": {},
     "output_type": "execute_result"
    }
   ],
   "source": [
    "#The revenue difference is $5.96M between weekday and weekend.\n",
    "\n",
    "#Q6. Which city has seen the overall least orders in night hours in the months of May, June and July 2019.\n",
    "df_6 = df.copy()\n",
    "df_6 = df_6[(df_6['hour'] == 18) | (df_6['hour'] == 19) | (df_6['hour'] == 20) |(df_6['hour'] == 21) | (df_6['hour'] == 22) | (df_6['hour'] == 23) | (df_6['hour'] == 24)]\n",
    "df_6 = df_6[((df_6['month'] ==  5 ) | (df_6['month'] == 5 ) | (df_6['month'] == 7)) & (df_6['year'] == 2019)]\n",
    "df_6.groupby('city')['quantity'].sum().idxmin()"
   ]
  },
  {
   "cell_type": "code",
   "execution_count": 360,
   "metadata": {
    "pycharm": {
     "name": "#%%\n"
    }
   },
   "outputs": [
    {
     "name": "stdout",
     "output_type": "stream",
     "text": [
      "the number of sales of apple phone:  881\n",
      "the number of sales of google phone:  758\n"
     ]
    },
    {
     "name": "stderr",
     "output_type": "stream",
     "text": [
      "C:\\Users\\Utsab\\AppData\\Local\\Temp\\ipykernel_33476\\289047579.py:4: UserWarning: Boolean Series key will be reindexed to match DataFrame index.\n",
      "  df_7_goo = df_7[(df['product'] == 'Google Phone') ]\n",
      "C:\\Users\\Utsab\\AppData\\Local\\Temp\\ipykernel_33476\\289047579.py:5: UserWarning: Boolean Series key will be reindexed to match DataFrame index.\n",
      "  df_7_app = df_7[(df['product'] == 'iPhone') ]\n"
     ]
    }
   ],
   "source": [
    "#Austin has the least amount of order during night hours of May, June & July\n",
    "\n",
    "#Q7. Is “Google Phone” better performing in respect to overall number of orders placed as well as revenue generated than “iphone” in “New York City” ?\n",
    "\n",
    "df_7 = df[(df['city'] == 'New York City')]\n",
    "df_7_goo = df_7[(df['product'] == 'Google Phone') ]\n",
    "df_7_app = df_7[(df['product'] == 'iPhone') ]\n",
    "print('the number of sales of apple phone: ', df_7_app['quantity'].sum())\n",
    "print('the number of sales of google phone: ',df_7_goo['quantity'].sum())\n"
   ]
  },
  {
   "cell_type": "code",
   "execution_count": null,
   "metadata": {
    "pycharm": {
     "name": "#%%\n"
    }
   },
   "outputs": [],
   "source": [
    "#thus we can see the apple phones performed better than google phones"
   ]
  },
  {
   "cell_type": "code",
   "execution_count": 361,
   "metadata": {
    "pycharm": {
     "name": "#%%\n"
    }
   },
   "outputs": [
    {
     "name": "stderr",
     "output_type": "stream",
     "text": [
      "C:\\Users\\Utsab\\AppData\\Local\\Temp\\ipykernel_33476\\4148680341.py:3: UserWarning: Boolean Series key will be reindexed to match DataFrame index.\n",
      "  df_8_bost = df_8_bost[(df['month'] == 1)]\n",
      "C:\\Users\\Utsab\\AppData\\Local\\Temp\\ipykernel_33476\\4148680341.py:5: UserWarning: Boolean Series key will be reindexed to match DataFrame index.\n",
      "  df_8_port = df_8_port[(df['month'] == 1)]\n"
     ]
    },
    {
     "data": {
      "text/plain": [
       "2"
      ]
     },
     "execution_count": 361,
     "metadata": {},
     "output_type": "execute_result"
    }
   ],
   "source": [
    "#Q8. What is the absolute difference in total number of unique orders being created in the cities of “Boston” and “Portland” for the month of Jan in both years 2019 & 2020 ?\n",
    "df_8_bost = df[(df['city'] == 'Boston' )]\n",
    "df_8_bost = df_8_bost[(df['month'] == 1)]\n",
    "df_8_port = df[(df['city'] == 'Portland' )]\n",
    "df_8_port = df_8_port[(df['month'] == 1)]\n",
    "df_8_bost = df_8_bost.groupby('product')['quantity'].nunique().sum()\n",
    "df_8_port = df_8_port.groupby('product')['quantity'].nunique().sum()\n",
    "\n",
    "abs(df_8_port- df_8_bost)"
   ]
  },
  {
   "cell_type": "code",
   "execution_count": null,
   "metadata": {
    "pycharm": {
     "name": "#%%\n"
    }
   },
   "outputs": [],
   "source": []
  },
  {
   "cell_type": "code",
   "execution_count": null,
   "metadata": {
    "pycharm": {
     "name": "#%%\n"
    }
   },
   "outputs": [],
   "source": []
  }
 ],
 "metadata": {
  "kernelspec": {
   "display_name": "Python 3 (ipykernel)",
   "language": "python",
   "name": "python3"
  },
  "language_info": {
   "codemirror_mode": {
    "name": "ipython",
    "version": 3
   },
   "file_extension": ".py",
   "mimetype": "text/x-python",
   "name": "python",
   "nbconvert_exporter": "python",
   "pygments_lexer": "ipython3",
   "version": "3.9.7"
  }
 },
 "nbformat": 4,
 "nbformat_minor": 1
}
